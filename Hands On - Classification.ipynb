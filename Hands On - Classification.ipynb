{
 "cells": [
  {
   "cell_type": "code",
   "execution_count": 1,
   "metadata": {
    "ExecuteTime": {
     "end_time": "2021-11-20T19:12:02.742296Z",
     "start_time": "2021-11-20T19:12:02.051831Z"
    }
   },
   "outputs": [],
   "source": [
    "import warnings\n",
    "warnings.filterwarnings('ignore')\n",
    "\n",
    "import matplotlib.pyplot as plt\n",
    "import pandas as pd\n",
    "import numpy as np\n",
    "import seaborn as sns\n",
    "\n",
    "pd.set_option(\"max_column\",100)"
   ]
  },
  {
   "cell_type": "code",
   "execution_count": 2,
   "metadata": {
    "ExecuteTime": {
     "end_time": "2021-11-20T19:12:05.737452Z",
     "start_time": "2021-11-20T19:12:05.496735Z"
    }
   },
   "outputs": [],
   "source": [
    "from sklearn.metrics import accuracy_score, precision_score, recall_score, f1_score, roc_auc_score\n",
    "\n",
    "def eval_classification(model, xtrain, ytrain, xtest, ytest):\n",
    "    ypred = model.predict(xtest)\n",
    "    print(\"Accuracy (Test Set): %.2f\" % accuracy_score(ytest, ypred))\n",
    "    print(\"Precision (Test Set): %.2f\" % precision_score(ytest, ypred))\n",
    "    print(\"Recall (Test Set): %.2f\" % recall_score(ytest, ypred))\n",
    "    print(\"F1-Score (Test Set): %.2f\" % f1_score(ytest, ypred))\n",
    "    \n",
    "    y_pred_proba = model.predict_proba(xtest)\n",
    "    print(\"AUC: %.2f\" % roc_auc_score(ytest, y_pred_proba[:, 1]))"
   ]
  },
  {
   "cell_type": "markdown",
   "metadata": {},
   "source": [
    "# Classification"
   ]
  },
  {
   "cell_type": "markdown",
   "metadata": {},
   "source": [
    "## Split Train Test Data"
   ]
  },
  {
   "cell_type": "code",
   "execution_count": 3,
   "metadata": {
    "ExecuteTime": {
     "end_time": "2021-11-20T19:12:09.120884Z",
     "start_time": "2021-11-20T19:12:09.105730Z"
    }
   },
   "outputs": [],
   "source": [
    "import pandas as pd\n",
    "df = pd.read_csv(\"fraud.csv\")\n",
    "\n",
    "# Split Feature and Label\n",
    "X = df.drop(columns=['index','customerEmail','customerPhone','customerDevice','customerIPAddress','customerBillingAddress','Fraud','Fraud_Decoded'])\n",
    "y = df['Fraud_Decoded'] # target / label\n",
    "\n",
    "#Splitting the data into Train and Test\n",
    "from sklearn.model_selection import train_test_split \n",
    "X_train, X_test, y_train, y_test = train_test_split(X, y, test_size = 0.3, random_state = 42)"
   ]
  },
  {
   "cell_type": "code",
   "execution_count": 4,
   "metadata": {
    "ExecuteTime": {
     "end_time": "2021-06-20T03:23:15.549412Z",
     "start_time": "2021-06-20T03:23:15.514390Z"
    },
    "collapsed": true
   },
   "outputs": [
    {
     "data": {
      "text/html": [
       "<div>\n",
       "<style scoped>\n",
       "    .dataframe tbody tr th:only-of-type {\n",
       "        vertical-align: middle;\n",
       "    }\n",
       "\n",
       "    .dataframe tbody tr th {\n",
       "        vertical-align: top;\n",
       "    }\n",
       "\n",
       "    .dataframe thead th {\n",
       "        text-align: right;\n",
       "    }\n",
       "</style>\n",
       "<table border=\"1\" class=\"dataframe\">\n",
       "  <thead>\n",
       "    <tr style=\"text-align: right;\">\n",
       "      <th></th>\n",
       "      <th>index</th>\n",
       "      <th>customerEmail</th>\n",
       "      <th>customerPhone</th>\n",
       "      <th>customerDevice</th>\n",
       "      <th>customerIPAddress</th>\n",
       "      <th>customerBillingAddress</th>\n",
       "      <th>No_Transactions</th>\n",
       "      <th>No_Orders</th>\n",
       "      <th>No_Payments</th>\n",
       "      <th>Fraud</th>\n",
       "      <th>Total_transaction_amt</th>\n",
       "      <th>No_transactionsFail</th>\n",
       "      <th>PaymentRegFail</th>\n",
       "      <th>PaypalPayments</th>\n",
       "      <th>ApplePayments</th>\n",
       "      <th>CardPayments</th>\n",
       "      <th>BitcoinPayments</th>\n",
       "      <th>OrdersFulfilled</th>\n",
       "      <th>OrdersPending</th>\n",
       "      <th>OrdersFailed</th>\n",
       "      <th>JCB_16</th>\n",
       "      <th>AmericanExp</th>\n",
       "      <th>VISA_16</th>\n",
       "      <th>Discover</th>\n",
       "      <th>Voyager</th>\n",
       "      <th>VISA_13</th>\n",
       "      <th>Maestro</th>\n",
       "      <th>Mastercard</th>\n",
       "      <th>DC_CB</th>\n",
       "      <th>JCB_15</th>\n",
       "      <th>Trns_fail_order_fulfilled</th>\n",
       "      <th>Duplicate_IP</th>\n",
       "      <th>Fraud_Decoded</th>\n",
       "      <th>Duplicate_Address</th>\n",
       "    </tr>\n",
       "  </thead>\n",
       "  <tbody>\n",
       "    <tr>\n",
       "      <th>0</th>\n",
       "      <td>0</td>\n",
       "      <td>josephhoward@yahoo.com</td>\n",
       "      <td>400-108-5415</td>\n",
       "      <td>yyeiaxpltf82440jnb3v</td>\n",
       "      <td>8.129.104.40</td>\n",
       "      <td>5493 Jones Islands\\nBrownside, CA 51896</td>\n",
       "      <td>2</td>\n",
       "      <td>2</td>\n",
       "      <td>1</td>\n",
       "      <td>False</td>\n",
       "      <td>44</td>\n",
       "      <td>0</td>\n",
       "      <td>2</td>\n",
       "      <td>0</td>\n",
       "      <td>0</td>\n",
       "      <td>2</td>\n",
       "      <td>0</td>\n",
       "      <td>1</td>\n",
       "      <td>1</td>\n",
       "      <td>0</td>\n",
       "      <td>2</td>\n",
       "      <td>0</td>\n",
       "      <td>0</td>\n",
       "      <td>0</td>\n",
       "      <td>0</td>\n",
       "      <td>0</td>\n",
       "      <td>0</td>\n",
       "      <td>0</td>\n",
       "      <td>0</td>\n",
       "      <td>0</td>\n",
       "      <td>0</td>\n",
       "      <td>0</td>\n",
       "      <td>0</td>\n",
       "      <td>0</td>\n",
       "    </tr>\n",
       "    <tr>\n",
       "      <th>1</th>\n",
       "      <td>1</td>\n",
       "      <td>evansjeffery@yahoo.com</td>\n",
       "      <td>1-788-091-7546</td>\n",
       "      <td>r0jpm7xaeqqa3kr6mzum</td>\n",
       "      <td>219.173.211.202</td>\n",
       "      <td>356 Elizabeth Inlet Suite 120\\nPort Joshuabury...</td>\n",
       "      <td>3</td>\n",
       "      <td>3</td>\n",
       "      <td>7</td>\n",
       "      <td>True</td>\n",
       "      <td>111</td>\n",
       "      <td>1</td>\n",
       "      <td>1</td>\n",
       "      <td>0</td>\n",
       "      <td>0</td>\n",
       "      <td>0</td>\n",
       "      <td>3</td>\n",
       "      <td>3</td>\n",
       "      <td>0</td>\n",
       "      <td>0</td>\n",
       "      <td>0</td>\n",
       "      <td>2</td>\n",
       "      <td>1</td>\n",
       "      <td>0</td>\n",
       "      <td>0</td>\n",
       "      <td>0</td>\n",
       "      <td>0</td>\n",
       "      <td>0</td>\n",
       "      <td>0</td>\n",
       "      <td>0</td>\n",
       "      <td>1</td>\n",
       "      <td>0</td>\n",
       "      <td>1</td>\n",
       "      <td>0</td>\n",
       "    </tr>\n",
       "    <tr>\n",
       "      <th>2</th>\n",
       "      <td>2</td>\n",
       "      <td>andersonwilliam@yahoo.com</td>\n",
       "      <td>024.420.0375</td>\n",
       "      <td>4m7h5ipl1shyavt6vv2r</td>\n",
       "      <td>67b7:3db8:67e0:3bea:b9d0:90c1:2b60:b9f0</td>\n",
       "      <td>8478 Sean Ridges Apt. 441\\nDavisberg, PR 72250</td>\n",
       "      <td>5</td>\n",
       "      <td>3</td>\n",
       "      <td>2</td>\n",
       "      <td>False</td>\n",
       "      <td>131</td>\n",
       "      <td>2</td>\n",
       "      <td>0</td>\n",
       "      <td>0</td>\n",
       "      <td>0</td>\n",
       "      <td>5</td>\n",
       "      <td>0</td>\n",
       "      <td>4</td>\n",
       "      <td>0</td>\n",
       "      <td>1</td>\n",
       "      <td>4</td>\n",
       "      <td>0</td>\n",
       "      <td>0</td>\n",
       "      <td>1</td>\n",
       "      <td>0</td>\n",
       "      <td>0</td>\n",
       "      <td>0</td>\n",
       "      <td>0</td>\n",
       "      <td>0</td>\n",
       "      <td>0</td>\n",
       "      <td>2</td>\n",
       "      <td>0</td>\n",
       "      <td>0</td>\n",
       "      <td>0</td>\n",
       "    </tr>\n",
       "    <tr>\n",
       "      <th>3</th>\n",
       "      <td>3</td>\n",
       "      <td>rubenjuarez@yahoo.com</td>\n",
       "      <td>670.664.8168x94985</td>\n",
       "      <td>slovx60t0i558may4ks0</td>\n",
       "      <td>95de:8565:5a66:792c:26e0:6cfb:7d87:11af</td>\n",
       "      <td>7769 Elizabeth Bridge Apt. 343\\nNortonstad, FM...</td>\n",
       "      <td>3</td>\n",
       "      <td>3</td>\n",
       "      <td>1</td>\n",
       "      <td>False</td>\n",
       "      <td>85</td>\n",
       "      <td>0</td>\n",
       "      <td>0</td>\n",
       "      <td>0</td>\n",
       "      <td>0</td>\n",
       "      <td>3</td>\n",
       "      <td>0</td>\n",
       "      <td>3</td>\n",
       "      <td>0</td>\n",
       "      <td>0</td>\n",
       "      <td>0</td>\n",
       "      <td>0</td>\n",
       "      <td>0</td>\n",
       "      <td>0</td>\n",
       "      <td>3</td>\n",
       "      <td>0</td>\n",
       "      <td>0</td>\n",
       "      <td>0</td>\n",
       "      <td>0</td>\n",
       "      <td>0</td>\n",
       "      <td>0</td>\n",
       "      <td>0</td>\n",
       "      <td>0</td>\n",
       "      <td>0</td>\n",
       "    </tr>\n",
       "    <tr>\n",
       "      <th>4</th>\n",
       "      <td>4</td>\n",
       "      <td>uchen@malone.com</td>\n",
       "      <td>1-981-877-0870</td>\n",
       "      <td>j0pd24k5h8dl2fqu0cz4</td>\n",
       "      <td>196.89.235.192</td>\n",
       "      <td>148 Russell Lodge Apt. 445\\nPort Jenniferside,...</td>\n",
       "      <td>7</td>\n",
       "      <td>7</td>\n",
       "      <td>6</td>\n",
       "      <td>True</td>\n",
       "      <td>411</td>\n",
       "      <td>2</td>\n",
       "      <td>0</td>\n",
       "      <td>0</td>\n",
       "      <td>3</td>\n",
       "      <td>4</td>\n",
       "      <td>0</td>\n",
       "      <td>6</td>\n",
       "      <td>0</td>\n",
       "      <td>1</td>\n",
       "      <td>3</td>\n",
       "      <td>1</td>\n",
       "      <td>2</td>\n",
       "      <td>0</td>\n",
       "      <td>0</td>\n",
       "      <td>1</td>\n",
       "      <td>0</td>\n",
       "      <td>0</td>\n",
       "      <td>0</td>\n",
       "      <td>0</td>\n",
       "      <td>2</td>\n",
       "      <td>0</td>\n",
       "      <td>1</td>\n",
       "      <td>0</td>\n",
       "    </tr>\n",
       "  </tbody>\n",
       "</table>\n",
       "</div>"
      ],
      "text/plain": [
       "   index              customerEmail       customerPhone        customerDevice  \\\n",
       "0      0     josephhoward@yahoo.com        400-108-5415  yyeiaxpltf82440jnb3v   \n",
       "1      1     evansjeffery@yahoo.com      1-788-091-7546  r0jpm7xaeqqa3kr6mzum   \n",
       "2      2  andersonwilliam@yahoo.com        024.420.0375  4m7h5ipl1shyavt6vv2r   \n",
       "3      3      rubenjuarez@yahoo.com  670.664.8168x94985  slovx60t0i558may4ks0   \n",
       "4      4           uchen@malone.com      1-981-877-0870  j0pd24k5h8dl2fqu0cz4   \n",
       "\n",
       "                         customerIPAddress  \\\n",
       "0                             8.129.104.40   \n",
       "1                          219.173.211.202   \n",
       "2  67b7:3db8:67e0:3bea:b9d0:90c1:2b60:b9f0   \n",
       "3  95de:8565:5a66:792c:26e0:6cfb:7d87:11af   \n",
       "4                           196.89.235.192   \n",
       "\n",
       "                              customerBillingAddress  No_Transactions  \\\n",
       "0            5493 Jones Islands\\nBrownside, CA 51896                2   \n",
       "1  356 Elizabeth Inlet Suite 120\\nPort Joshuabury...                3   \n",
       "2     8478 Sean Ridges Apt. 441\\nDavisberg, PR 72250                5   \n",
       "3  7769 Elizabeth Bridge Apt. 343\\nNortonstad, FM...                3   \n",
       "4  148 Russell Lodge Apt. 445\\nPort Jenniferside,...                7   \n",
       "\n",
       "   No_Orders  No_Payments  Fraud  Total_transaction_amt  No_transactionsFail  \\\n",
       "0          2            1  False                     44                    0   \n",
       "1          3            7   True                    111                    1   \n",
       "2          3            2  False                    131                    2   \n",
       "3          3            1  False                     85                    0   \n",
       "4          7            6   True                    411                    2   \n",
       "\n",
       "   PaymentRegFail  PaypalPayments  ApplePayments  CardPayments  \\\n",
       "0               2               0              0             2   \n",
       "1               1               0              0             0   \n",
       "2               0               0              0             5   \n",
       "3               0               0              0             3   \n",
       "4               0               0              3             4   \n",
       "\n",
       "   BitcoinPayments  OrdersFulfilled  OrdersPending  OrdersFailed  JCB_16  \\\n",
       "0                0                1              1             0       2   \n",
       "1                3                3              0             0       0   \n",
       "2                0                4              0             1       4   \n",
       "3                0                3              0             0       0   \n",
       "4                0                6              0             1       3   \n",
       "\n",
       "   AmericanExp  VISA_16  Discover  Voyager  VISA_13  Maestro  Mastercard  \\\n",
       "0            0        0         0        0        0        0           0   \n",
       "1            2        1         0        0        0        0           0   \n",
       "2            0        0         1        0        0        0           0   \n",
       "3            0        0         0        3        0        0           0   \n",
       "4            1        2         0        0        1        0           0   \n",
       "\n",
       "   DC_CB  JCB_15  Trns_fail_order_fulfilled  Duplicate_IP  Fraud_Decoded  \\\n",
       "0      0       0                          0             0              0   \n",
       "1      0       0                          1             0              1   \n",
       "2      0       0                          2             0              0   \n",
       "3      0       0                          0             0              0   \n",
       "4      0       0                          2             0              1   \n",
       "\n",
       "   Duplicate_Address  \n",
       "0                  0  \n",
       "1                  0  \n",
       "2                  0  \n",
       "3                  0  \n",
       "4                  0  "
      ]
     },
     "execution_count": 4,
     "metadata": {},
     "output_type": "execute_result"
    }
   ],
   "source": [
    "df.head()"
   ]
  },
  {
   "cell_type": "markdown",
   "metadata": {},
   "source": [
    "## Logistic Regression\n",
    "sklearn Documentation: https://scikit-learn.org/stable/modules/generated/sklearn.linear_model.LogisticRegression.html"
   ]
  },
  {
   "cell_type": "code",
   "execution_count": 4,
   "metadata": {
    "ExecuteTime": {
     "end_time": "2021-11-20T19:12:12.932585Z",
     "start_time": "2021-11-20T19:12:12.888363Z"
    }
   },
   "outputs": [
    {
     "data": {
      "text/plain": [
       "LogisticRegression(random_state=42)"
      ]
     },
     "execution_count": 4,
     "metadata": {},
     "output_type": "execute_result"
    }
   ],
   "source": [
    "from sklearn.linear_model import LogisticRegression\n",
    "model = LogisticRegression(random_state=42)\n",
    "model.fit(X_train, y_train)"
   ]
  },
  {
   "cell_type": "markdown",
   "metadata": {},
   "source": [
    "<b>Prediction Result (in data test)</b>"
   ]
  },
  {
   "cell_type": "code",
   "execution_count": 5,
   "metadata": {
    "ExecuteTime": {
     "end_time": "2021-11-20T19:12:14.242336Z",
     "start_time": "2021-11-20T19:12:14.238078Z"
    }
   },
   "outputs": [
    {
     "data": {
      "text/plain": [
       "array([0, 0, 1, 0, 1, 0, 0, 0, 1, 0, 0, 1, 0, 0, 1, 0, 1, 0, 0, 0, 1, 0,\n",
       "       0, 0, 1, 1, 0, 1, 1, 1, 0, 0, 1, 1, 1, 0, 0, 1, 1, 0, 0, 1, 0])"
      ]
     },
     "execution_count": 5,
     "metadata": {},
     "output_type": "execute_result"
    }
   ],
   "source": [
    "y_pred = model.predict(X_test)\n",
    "y_pred"
   ]
  },
  {
   "cell_type": "code",
   "execution_count": 6,
   "metadata": {
    "ExecuteTime": {
     "end_time": "2021-11-20T19:12:15.720510Z",
     "start_time": "2021-11-20T19:12:15.715280Z"
    },
    "collapsed": true
   },
   "outputs": [
    {
     "data": {
      "text/plain": [
       "array([[8.60808668e-01, 1.39191332e-01],\n",
       "       [8.15207128e-01, 1.84792872e-01],\n",
       "       [1.33120861e-03, 9.98668791e-01],\n",
       "       [7.61692707e-01, 2.38307293e-01],\n",
       "       [3.25348768e-01, 6.74651232e-01],\n",
       "       [7.86231837e-01, 2.13768163e-01],\n",
       "       [9.91230498e-01, 8.76950206e-03],\n",
       "       [9.87225523e-01, 1.27744768e-02],\n",
       "       [1.96449523e-11, 1.00000000e+00],\n",
       "       [8.17746679e-01, 1.82253321e-01],\n",
       "       [9.57284536e-01, 4.27154645e-02],\n",
       "       [1.95919595e-05, 9.99980408e-01],\n",
       "       [9.61790557e-01, 3.82094435e-02],\n",
       "       [8.33694444e-01, 1.66305556e-01],\n",
       "       [1.48662645e-01, 8.51337355e-01],\n",
       "       [7.54141058e-01, 2.45858942e-01],\n",
       "       [2.53610754e-04, 9.99746389e-01],\n",
       "       [7.30009649e-01, 2.69990351e-01],\n",
       "       [8.26071666e-01, 1.73928334e-01],\n",
       "       [6.77721111e-01, 3.22278889e-01],\n",
       "       [1.33652681e-01, 8.66347319e-01],\n",
       "       [6.96221282e-01, 3.03778718e-01],\n",
       "       [7.85021675e-01, 2.14978325e-01],\n",
       "       [9.94463100e-01, 5.53689989e-03],\n",
       "       [1.92652228e-09, 9.99999998e-01],\n",
       "       [1.84505320e-04, 9.99815495e-01],\n",
       "       [9.67080935e-01, 3.29190645e-02],\n",
       "       [5.45016999e-04, 9.99454983e-01],\n",
       "       [1.56165320e-01, 8.43834680e-01],\n",
       "       [3.29447733e-01, 6.70552267e-01],\n",
       "       [6.48736429e-01, 3.51263571e-01],\n",
       "       [7.34233846e-01, 2.65766154e-01],\n",
       "       [2.45159448e-12, 1.00000000e+00],\n",
       "       [3.66717048e-01, 6.33282952e-01],\n",
       "       [7.58740218e-02, 9.24125978e-01],\n",
       "       [8.98532123e-01, 1.01467877e-01],\n",
       "       [9.54965651e-01, 4.50343485e-02],\n",
       "       [3.52439026e-02, 9.64756097e-01],\n",
       "       [1.93874178e-01, 8.06125822e-01],\n",
       "       [9.91570448e-01, 8.42955205e-03],\n",
       "       [6.96863707e-01, 3.03136293e-01],\n",
       "       [3.66666686e-02, 9.63333331e-01],\n",
       "       [9.45693557e-01, 5.43064433e-02]])"
      ]
     },
     "execution_count": 6,
     "metadata": {},
     "output_type": "execute_result"
    }
   ],
   "source": [
    "model.predict_proba(X_test)"
   ]
  },
  {
   "cell_type": "code",
   "execution_count": 7,
   "metadata": {
    "ExecuteTime": {
     "end_time": "2021-11-20T19:12:20.970660Z",
     "start_time": "2021-11-20T19:12:20.966011Z"
    }
   },
   "outputs": [
    {
     "data": {
      "text/plain": [
       "array([0, 0, 0, 1, 0, 0, 0, 0, 1, 0, 0, 1, 1, 0, 0, 0, 1, 1, 0, 1, 0, 1,\n",
       "       0, 1, 1, 0, 0, 0, 0, 1, 0, 0, 0, 0, 0, 0, 1, 1, 1, 1, 0, 0, 1, 0,\n",
       "       0, 1, 1, 1, 0, 0, 1, 0, 0, 1, 1, 0, 0, 1, 1, 0, 0, 0, 0, 1, 0, 0,\n",
       "       0, 0, 0, 0, 0, 0, 0, 0, 1, 1, 0, 0, 0, 1, 0, 0, 0, 0, 0, 1, 1, 1,\n",
       "       0, 0, 1, 0, 1, 0, 0, 1, 0, 1, 0, 1])"
      ]
     },
     "execution_count": 7,
     "metadata": {},
     "output_type": "execute_result"
    }
   ],
   "source": [
    "y_pred_train = model.predict(X_train)\n",
    "y_pred_train"
   ]
  },
  {
   "cell_type": "markdown",
   "metadata": {},
   "source": [
    "<b>Evaluation</b>"
   ]
  },
  {
   "cell_type": "code",
   "execution_count": 8,
   "metadata": {
    "ExecuteTime": {
     "end_time": "2021-11-20T19:12:52.026937Z",
     "start_time": "2021-11-20T19:12:52.022525Z"
    }
   },
   "outputs": [
    {
     "data": {
      "text/plain": [
       "0.6904761904761905"
      ]
     },
     "execution_count": 8,
     "metadata": {},
     "output_type": "execute_result"
    }
   ],
   "source": [
    "from sklearn.metrics import roc_auc_score\n",
    "roc_auc_score(y_test, y_pred)"
   ]
  },
  {
   "cell_type": "code",
   "execution_count": 9,
   "metadata": {
    "ExecuteTime": {
     "end_time": "2021-11-20T19:12:55.951320Z",
     "start_time": "2021-11-20T19:12:55.942909Z"
    }
   },
   "outputs": [
    {
     "name": "stdout",
     "output_type": "stream",
     "text": [
      "Accuracy (Test Set): 0.70\n",
      "Precision (Test Set): 0.56\n",
      "Recall (Test Set): 0.67\n",
      "F1-Score (Test Set): 0.61\n",
      "AUC: 0.80\n"
     ]
    }
   ],
   "source": [
    "eval_classification(model, X_train, y_train, X_test, y_test)"
   ]
  },
  {
   "cell_type": "code",
   "execution_count": 10,
   "metadata": {
    "ExecuteTime": {
     "end_time": "2021-11-20T19:12:58.488122Z",
     "start_time": "2021-11-20T19:12:58.484218Z"
    }
   },
   "outputs": [
    {
     "name": "stdout",
     "output_type": "stream",
     "text": [
      "Precision (Train Set): 0.86\n"
     ]
    }
   ],
   "source": [
    "print(\"Precision (Train Set): %.2f\" % precision_score(y_train, y_pred_train))"
   ]
  },
  {
   "cell_type": "code",
   "execution_count": 11,
   "metadata": {
    "ExecuteTime": {
     "end_time": "2021-11-20T19:13:00.733815Z",
     "start_time": "2021-11-20T19:13:00.728843Z"
    }
   },
   "outputs": [
    {
     "name": "stdout",
     "output_type": "stream",
     "text": [
      "Train score: 0.85\n",
      "Test score:0.6976744186046512\n"
     ]
    }
   ],
   "source": [
    "print('Train score: ' + str(model.score(X_train, y_train))) #accuracy\n",
    "print('Test score:' + str(model.score(X_test, y_test))) #accuracy"
   ]
  },
  {
   "cell_type": "markdown",
   "metadata": {},
   "source": [
    "### Hyperparameter Tuning\n",
    "<b>Hyperparameter yang biasa di tuning pada Logistic Regression:</b> https://scikit-learn.org/stable/modules/generated/sklearn.linear_model.LogisticRegression.html\n",
    "- C: nilai regularization\n",
    "- penalty: menggukanan l2 norm (ridge), l1 (lasso), atau elastic net\n",
    "- solver: metode bagaimana kita melakukan update pada variable di logistic regression (slope/intercept): liblinear bagus jika data sedikit; sag & saga bagus jika data besar (karena menggunakan metode sampling)"
   ]
  },
  {
   "cell_type": "code",
   "execution_count": 12,
   "metadata": {
    "ExecuteTime": {
     "end_time": "2021-11-20T19:13:05.387660Z",
     "start_time": "2021-11-20T19:13:05.242304Z"
    },
    "scrolled": true
   },
   "outputs": [
    {
     "name": "stdout",
     "output_type": "stream",
     "text": [
      "Accuracy (Test Set): 0.84\n",
      "Precision (Test Set): 0.90\n",
      "Recall (Test Set): 0.60\n",
      "F1-Score (Test Set): 0.72\n",
      "AUC: 0.81\n"
     ]
    }
   ],
   "source": [
    "from sklearn.model_selection import RandomizedSearchCV, GridSearchCV\n",
    "\n",
    "# List Hyperparameters yang akan diuji\n",
    "penalty = ['l2','l1','elasticnet']\n",
    "C = [0.0001, 0.001, 0.002] # Inverse of regularization strength; smaller values specify stronger regularization.\n",
    "hyperparameters = dict(penalty=penalty, C=C)\n",
    "\n",
    "# Inisiasi model\n",
    "logres = LogisticRegression(random_state=42) # Init Logres dengan Gridsearch, cross validation = 5\n",
    "model = RandomizedSearchCV(logres, hyperparameters, cv=5, random_state=42, scoring='precision')\n",
    "\n",
    "# Fitting Model & Evaluation\n",
    "model.fit(X_train, y_train)\n",
    "y_pred = model.predict(X_test)\n",
    "eval_classification(model, X_train, y_train, X_test, y_test)"
   ]
  },
  {
   "cell_type": "code",
   "execution_count": 13,
   "metadata": {
    "ExecuteTime": {
     "end_time": "2021-11-20T19:13:07.074191Z",
     "start_time": "2021-11-20T19:13:07.069536Z"
    }
   },
   "outputs": [
    {
     "name": "stdout",
     "output_type": "stream",
     "text": [
      "Precision (Train Set): 0.93\n"
     ]
    }
   ],
   "source": [
    "y_pred_train = model.predict(X_train)\n",
    "print(\"Precision (Train Set): %.2f\" % precision_score(y_train, y_pred_train))"
   ]
  },
  {
   "cell_type": "code",
   "execution_count": 14,
   "metadata": {
    "ExecuteTime": {
     "end_time": "2021-11-20T19:13:07.284129Z",
     "start_time": "2021-11-20T19:13:07.281627Z"
    }
   },
   "outputs": [
    {
     "name": "stdout",
     "output_type": "stream",
     "text": [
      "Best penalty: l2\n",
      "Best C: 0.0001\n"
     ]
    }
   ],
   "source": [
    "print('Best penalty:', model.best_estimator_.get_params()['penalty'])\n",
    "print('Best C:', model.best_estimator_.get_params()['C'])"
   ]
  },
  {
   "cell_type": "code",
   "execution_count": 15,
   "metadata": {
    "ExecuteTime": {
     "end_time": "2021-11-20T19:13:08.615689Z",
     "start_time": "2021-11-20T19:13:08.609517Z"
    }
   },
   "outputs": [
    {
     "name": "stdout",
     "output_type": "stream",
     "text": [
      "Train score: 0.9285714285714286\n",
      "Test score:0.9\n"
     ]
    }
   ],
   "source": [
    "print('Train score: ' + str(model.score(X_train, y_train))) #accuracy\n",
    "print('Test score:' + str(model.score(X_test, y_test))) #accuracy"
   ]
  },
  {
   "cell_type": "markdown",
   "metadata": {},
   "source": [
    "# K-nearest Neighbor\n",
    "sklearn documentation: https://scikit-learn.org/stable/modules/generated/sklearn.neighbors.KNeighborsClassifier.html"
   ]
  },
  {
   "cell_type": "markdown",
   "metadata": {},
   "source": [
    "## CHALLENGE TIME (2)\n",
    "Lakukan modeling dengan kNN, inisialisasi modelnya dengan nama variable `model`"
   ]
  },
  {
   "cell_type": "code",
   "execution_count": null,
   "metadata": {
    "ExecuteTime": {
     "end_time": "2021-06-18T07:48:25.380304Z",
     "start_time": "2021-06-18T07:48:25.373463Z"
    }
   },
   "outputs": [],
   "source": [
    "### ISI JAWABAN CHALLENGE 2 DISINI ya ###\n",
    "\n",
    "### ISI JAWABAN CHALLENGE 2 DISINI ya ###\n",
    "\n",
    "# Prediction & Evaluation\n",
    "y_pred = model.predict(X_test)\n",
    "eval_classification(model, X_train, y_train, X_test, y_test)"
   ]
  },
  {
   "cell_type": "code",
   "execution_count": null,
   "metadata": {
    "ExecuteTime": {
     "end_time": "2021-06-18T07:48:25.580510Z",
     "start_time": "2021-06-18T07:48:25.573893Z"
    }
   },
   "outputs": [],
   "source": [
    "print('Train score: ' + str(model.score(X_train, y_train))) #accuracy\n",
    "print('Test score:' + str(model.score(X_test, y_test))) #accuracy"
   ]
  },
  {
   "cell_type": "markdown",
   "metadata": {},
   "source": [
    "### Hyperparameter Tuning with RandomSearch\n",
    "<b>Hyperparameter yang biasa di tuning pada kNN:</b> (https://scikit-learn.org/stable/modules/generated/sklearn.neighbors.KNeighborsClassifier.html)\n",
    "- n_neighbors: jumlah tetangga yang kita lihat\n",
    "- weights: jika menggunakan pembobotan pada kNN. pembobotan bisa berdasarkan jarak (i.e. semakin dekat jaraknya semakin besar bobotnya)\n",
    "- algorithm: berbagai macam algoritma yang kita gunakan untuk menghitung jarak dan membandingkan jarak satu dengan yang lainnya (brute, kd_tree, ball_tree, etc.)\n",
    "    - leaf_size: digunakan jika kita menggunakan algoritma kd_tree saja. membandingkan jarak dengan pendekatan tree based algorithm\n",
    "- p: cara menghitung jarak antar data point. 1 untuk manhattan distance, 2 untuk euclidean distance, >2 untuk minkowski distance"
   ]
  },
  {
   "cell_type": "code",
   "execution_count": 16,
   "metadata": {
    "ExecuteTime": {
     "end_time": "2021-11-20T19:13:43.187427Z",
     "start_time": "2021-11-20T19:13:43.004588Z"
    }
   },
   "outputs": [
    {
     "name": "stdout",
     "output_type": "stream",
     "text": [
      "Accuracy (Test Set): 0.84\n",
      "Precision (Test Set): 0.90\n",
      "Recall (Test Set): 0.60\n",
      "F1-Score (Test Set): 0.72\n",
      "AUC: 0.74\n"
     ]
    }
   ],
   "source": [
    "from sklearn.model_selection import RandomizedSearchCV\n",
    "from scipy.stats import uniform\n",
    "from sklearn.neighbors import KNeighborsClassifier\n",
    "\n",
    "# List of hyperparameter\n",
    "n_neighbors = list(range(1,30))\n",
    "p=[1,2]\n",
    "algorithm = ['auto', 'ball_tree', 'kd_tree', 'brute']\n",
    "hyperparameters = dict(n_neighbors=n_neighbors, p=p, algorithm=algorithm)\n",
    "\n",
    "# Init model\n",
    "knn = KNeighborsClassifier()\n",
    "model = RandomizedSearchCV(knn, hyperparameters, cv=5, random_state=42, scoring='precision')\n",
    "\n",
    "# Fit Model & Evaluasi\n",
    "model.fit(X_train, y_train)\n",
    "y_pred = model.predict(X_test)\n",
    "eval_classification(model, X_train, y_train, X_test, y_test)"
   ]
  },
  {
   "cell_type": "code",
   "execution_count": 17,
   "metadata": {
    "ExecuteTime": {
     "end_time": "2021-11-20T19:13:45.083850Z",
     "start_time": "2021-11-20T19:13:45.080901Z"
    }
   },
   "outputs": [
    {
     "name": "stdout",
     "output_type": "stream",
     "text": [
      "Best n_neighbors: 6\n",
      "Best p: 1\n",
      "Best algorithm: kd_tree\n"
     ]
    }
   ],
   "source": [
    "print('Best n_neighbors:', model.best_estimator_.get_params()['n_neighbors'])\n",
    "print('Best p:', model.best_estimator_.get_params()['p'])\n",
    "print('Best algorithm:', model.best_estimator_.get_params()['algorithm'])"
   ]
  },
  {
   "cell_type": "code",
   "execution_count": 18,
   "metadata": {
    "ExecuteTime": {
     "end_time": "2021-11-20T19:13:46.429344Z",
     "start_time": "2021-11-20T19:13:46.417362Z"
    }
   },
   "outputs": [
    {
     "name": "stdout",
     "output_type": "stream",
     "text": [
      "Train score: 0.8888888888888888\n",
      "Test score:0.9\n"
     ]
    }
   ],
   "source": [
    "print('Train score: ' + str(model.score(X_train, y_train))) #accuracy\n",
    "print('Test score:' + str(model.score(X_test, y_test))) #accuracy"
   ]
  },
  {
   "cell_type": "markdown",
   "metadata": {},
   "source": [
    "underfit!"
   ]
  },
  {
   "cell_type": "markdown",
   "metadata": {},
   "source": [
    "## Decision Tree\n",
    "sklearn documentation: https://scikit-learn.org/stable/modules/generated/sklearn.tree.DecisionTreeClassifier.html#sklearn.tree.DecisionTreeClassifier"
   ]
  },
  {
   "cell_type": "markdown",
   "metadata": {},
   "source": [
    "### Fit & Predict"
   ]
  },
  {
   "cell_type": "code",
   "execution_count": 19,
   "metadata": {
    "ExecuteTime": {
     "end_time": "2021-11-20T19:13:50.566145Z",
     "start_time": "2021-11-20T19:13:50.546837Z"
    }
   },
   "outputs": [
    {
     "name": "stdout",
     "output_type": "stream",
     "text": [
      "Accuracy (Test Set): 0.63\n",
      "Precision (Test Set): 0.47\n",
      "Recall (Test Set): 0.60\n",
      "F1-Score (Test Set): 0.53\n",
      "AUC: 0.62\n"
     ]
    }
   ],
   "source": [
    "from sklearn.tree import DecisionTreeClassifier\n",
    "model = DecisionTreeClassifier(random_state=42)\n",
    "model.fit(X_train,y_train)\n",
    "\n",
    "y_pred = model.predict(X_test)\n",
    "eval_classification(model, X_train, y_train, X_test, y_test)"
   ]
  },
  {
   "cell_type": "code",
   "execution_count": 20,
   "metadata": {
    "ExecuteTime": {
     "end_time": "2021-11-20T19:13:51.005215Z",
     "start_time": "2021-11-20T19:13:50.999874Z"
    }
   },
   "outputs": [
    {
     "name": "stdout",
     "output_type": "stream",
     "text": [
      "Train score: 1.0\n",
      "Test score:0.627906976744186\n"
     ]
    }
   ],
   "source": [
    "print('Train score: ' + str(model.score(X_train, y_train))) #accuracy\n",
    "print('Test score:' + str(model.score(X_test, y_test))) #accuracy"
   ]
  },
  {
   "cell_type": "markdown",
   "metadata": {},
   "source": [
    "overfit"
   ]
  },
  {
   "cell_type": "markdown",
   "metadata": {},
   "source": [
    "### Hyperparameter Tuning with RandomSearch\n",
    "<b>Hyperparameter yang biasa di tuning pada Decision Tree:</b> (https://scikit-learn.org/stable/modules/generated/sklearn.tree.DecisionTreeClassifier.html#sklearn.tree.DecisionTreeClassifier)\n",
    "- criterion: cara menghitung impurity pada feature (gini, entropy). melihat feature mana yang menjadi root/node\n",
    "- max_depth: maksimal kedalaman tree untuk mencegah overfitting\n",
    "- min_sample_split: berapa jumlah sample yg dibutuhkan pada node untuk membuat leaf baru (agar tidak terlalu sedikit sehingga mengakibatkan overfit)\n",
    "- min_sample_leaf: berapa jumlah sample yg dibutuhkan pada leaf agar leaf terbentuk (agar tidak terlalu sedikit sehingga mengakibatkan overfit)\n",
    "- ccp_alpha: jika cost/error dari sebuah leaf/subtree lebih besar daripada ccp_alpha, subtree tersebut akan kita hapus/prune sehingga meminimalisir error/variance dari model\n",
    "- splitter: bagaimana kita memilih feature untuk dilakukan split, dan apakah ada jumlah batasan feature yang akan di split tersebut"
   ]
  },
  {
   "cell_type": "code",
   "execution_count": 21,
   "metadata": {
    "ExecuteTime": {
     "end_time": "2021-11-20T19:13:56.985224Z",
     "start_time": "2021-11-20T19:13:56.837766Z"
    },
    "scrolled": true
   },
   "outputs": [
    {
     "name": "stdout",
     "output_type": "stream",
     "text": [
      "Accuracy (Test Set): 0.84\n",
      "Precision (Test Set): 0.79\n",
      "Recall (Test Set): 0.73\n",
      "F1-Score (Test Set): 0.76\n",
      "AUC: 0.89\n"
     ]
    }
   ],
   "source": [
    "from sklearn.model_selection import RandomizedSearchCV\n",
    "from scipy.stats import uniform\n",
    "import numpy as np\n",
    "\n",
    "# List of hyperparameter\n",
    "max_depth = [int(x) for x in np.linspace(1, 110, num = 30)] # Maximum number of levels in tree\n",
    "min_samples_split = [2, 5, 10, 100] # Minimum number of samples required to split a node\n",
    "min_samples_leaf = [1, 2, 4, 10, 20, 50] # Minimum number of samples required at each leaf node\n",
    "max_features = ['auto', 'sqrt'] # Number of features to consider at every split\n",
    "\n",
    "hyperparameters = dict(max_depth=max_depth, \n",
    "                       min_samples_split=min_samples_split, \n",
    "                       min_samples_leaf=min_samples_leaf,\n",
    "                       max_features=max_features\n",
    "                      )\n",
    "\n",
    "# Inisialisasi Model\n",
    "dt = DecisionTreeClassifier(random_state=42)\n",
    "model = RandomizedSearchCV(dt, hyperparameters, cv=5, random_state=42, scoring='precision')\n",
    "model.fit(X_train, y_train)\n",
    "\n",
    "# Predict & Evaluation\n",
    "y_pred = model.predict(X_test)#Check performa dari model\n",
    "eval_classification(model, X_train, y_train, X_test, y_test)"
   ]
  },
  {
   "cell_type": "code",
   "execution_count": 22,
   "metadata": {
    "ExecuteTime": {
     "end_time": "2021-11-20T19:13:57.194185Z",
     "start_time": "2021-11-20T19:13:57.189671Z"
    }
   },
   "outputs": [
    {
     "name": "stdout",
     "output_type": "stream",
     "text": [
      "Best max_depth: 87\n",
      "Best min_samples_split: 10\n",
      "Best min_samples_leaf: 1\n",
      "Best max_features: sqrt\n"
     ]
    }
   ],
   "source": [
    "print('Best max_depth:', model.best_estimator_.get_params()['max_depth'])\n",
    "print('Best min_samples_split:', model.best_estimator_.get_params()['min_samples_split'])\n",
    "print('Best min_samples_leaf:', model.best_estimator_.get_params()['min_samples_leaf'])\n",
    "print('Best max_features:', model.best_estimator_.get_params()['max_features'])"
   ]
  },
  {
   "cell_type": "code",
   "execution_count": 23,
   "metadata": {
    "ExecuteTime": {
     "end_time": "2021-11-20T19:13:57.768120Z",
     "start_time": "2021-11-20T19:13:57.761109Z"
    }
   },
   "outputs": [
    {
     "name": "stdout",
     "output_type": "stream",
     "text": [
      "Train score: 0.9393939393939394\n",
      "Test score:0.7857142857142857\n"
     ]
    }
   ],
   "source": [
    "print('Train score: ' + str(model.score(X_train, y_train)))\n",
    "print('Test score:' + str(model.score(X_test, y_test)))"
   ]
  },
  {
   "cell_type": "markdown",
   "metadata": {},
   "source": [
    "applying several regularization help to prevent overfit"
   ]
  },
  {
   "cell_type": "markdown",
   "metadata": {},
   "source": [
    "## CHALLENGE TIME (3)\n",
    "- Tambahkan dan coba hyperparameter `criterion` dan `splitter` pada Decision Tree\n",
    "- reference: https://scikit-learn.org/stable/modules/generated/sklearn.tree.DecisionTreeClassifier.html#sklearn.tree.DecisionTreeClassifier"
   ]
  },
  {
   "cell_type": "code",
   "execution_count": 24,
   "metadata": {
    "ExecuteTime": {
     "end_time": "2021-11-20T19:14:03.305421Z",
     "start_time": "2021-11-20T19:14:03.156741Z"
    }
   },
   "outputs": [
    {
     "name": "stdout",
     "output_type": "stream",
     "text": [
      "Accuracy (Test Set): 0.81\n",
      "Precision (Test Set): 0.77\n",
      "Recall (Test Set): 0.67\n",
      "F1-Score (Test Set): 0.71\n",
      "AUC: 0.79\n"
     ]
    }
   ],
   "source": [
    "from sklearn.model_selection import RandomizedSearchCV, GridSearchCV\n",
    "from scipy.stats import uniform\n",
    "import numpy as np\n",
    "\n",
    "# List of hyperparameter\n",
    "max_depth = [int(x) for x in np.linspace(1, 110, num = 30)] # Maximum number of levels in tree\n",
    "min_samples_split = [2, 5, 10, 100] # Minimum number of samples required to split a node\n",
    "min_samples_leaf = [1, 2, 4, 10, 20, 50] # Minimum number of samples required at each leaf node\n",
    "max_features = ['auto', 'sqrt'] # Number of features to consider at every split\n",
    "\n",
    "#### LENGKAPI DENGAN JAWABAN CHALLENGE TIME DISINI ####\n",
    "\n",
    "\n",
    "hyperparameters = dict(max_depth=max_depth, \n",
    "                       min_samples_split=min_samples_split, \n",
    "                       min_samples_leaf=min_samples_leaf,\n",
    "                       max_features=max_features\n",
    "                      )\n",
    "#### TAMBAHKAN JAWABAN CHALLENGE TIME DISINI ####\n",
    "\n",
    "# Inisialisasi Model\n",
    "dt = DecisionTreeClassifier(random_state=42)\n",
    "model = RandomizedSearchCV(dt, hyperparameters, cv=5, scoring='precision') \n",
    "model.fit(X_train, y_train)\n",
    "\n",
    "# Predict & Evaluation\n",
    "y_pred = model.predict(X_test)#Check performa dari model\n",
    "eval_classification(model, X_train, y_train, X_test, y_test)"
   ]
  },
  {
   "cell_type": "code",
   "execution_count": 25,
   "metadata": {
    "ExecuteTime": {
     "end_time": "2021-11-20T19:14:03.985053Z",
     "start_time": "2021-11-20T19:14:03.981404Z"
    }
   },
   "outputs": [
    {
     "name": "stdout",
     "output_type": "stream",
     "text": [
      "Best max_depth: 106\n",
      "Best min_samples_split: 5\n",
      "Best min_samples_leaf: 2\n",
      "Best max_features: auto\n",
      "Best criterion: gini\n",
      "Best splitter: best\n"
     ]
    }
   ],
   "source": [
    "print('Best max_depth:', model.best_estimator_.get_params()['max_depth'])\n",
    "print('Best min_samples_split:', model.best_estimator_.get_params()['min_samples_split'])\n",
    "print('Best min_samples_leaf:', model.best_estimator_.get_params()['min_samples_leaf'])\n",
    "print('Best max_features:', model.best_estimator_.get_params()['max_features'])\n",
    "print('Best criterion:', model.best_estimator_.get_params()['criterion'])\n",
    "print('Best splitter:', model.best_estimator_.get_params()['splitter'])"
   ]
  },
  {
   "cell_type": "code",
   "execution_count": 26,
   "metadata": {
    "ExecuteTime": {
     "end_time": "2021-11-20T19:14:05.500574Z",
     "start_time": "2021-11-20T19:14:05.494337Z"
    }
   },
   "outputs": [
    {
     "name": "stdout",
     "output_type": "stream",
     "text": [
      "Train score: 1.0\n",
      "Test score:0.7692307692307693\n"
     ]
    }
   ],
   "source": [
    "print('Train score: ' + str(model.score(X_train, y_train)))\n",
    "print('Test score:' + str(model.score(X_test, y_test)))"
   ]
  },
  {
   "cell_type": "code",
   "execution_count": 27,
   "metadata": {
    "ExecuteTime": {
     "end_time": "2021-11-20T19:14:10.705134Z",
     "start_time": "2021-11-20T19:14:10.337319Z"
    }
   },
   "outputs": [
    {
     "data": {
      "image/png": "[encoded data removed]",
      "text/plain": [
       "<Figure size 720x720 with 1 Axes>"
      ]
     },
     "metadata": {
      "needs_background": "light"
     },
     "output_type": "display_data"
    }
   ],
   "source": [
    "from sklearn import tree\n",
    "import matplotlib.pyplot as plt\n",
    "fig, ax = plt.subplots(figsize=(10, 10))\n",
    "tree.plot_tree(model.best_estimator_,\n",
    "               feature_names = X.columns.tolist(), \n",
    "               class_names=['0','1'],\n",
    "               filled = True, max_depth=5, fontsize=10)\n",
    "plt.show()"
   ]
  },
  {
   "cell_type": "markdown",
   "metadata": {},
   "source": [
    "<b>Hyperparameter yang biasa di tuning pada Decision Tree:</b> (https://scikit-learn.org/stable/modules/generated/sklearn.tree.DecisionTreeClassifier.html#sklearn.tree.DecisionTreeClassifier)\n",
    "- criterion: cara menghitung impurity pada feature (gini, entropy). melihat feature mana yang menjadi root/node\n",
    "- max_depth: maksimal kedalaman tree untuk mencegah overfitting\n",
    "- min_sample_split: berapa jumlah sample yg dibutuhkan pada node untuk membuat leaf baru (agar tidak terlalu sedikit sehingga mengakibatkan overfit)\n",
    "- min_sample_leaf: berapa jumlah sample yg dibutuhkan pada leaf agar leaf terbentuk (agar tidak terlalu sedikit sehingga mengakibatkan overfit)\n",
    "- ccp_alpha: jika cost/error dari sebuah leaf/subtree lebih besar daripada ccp_alpha, subtree tersebut akan kita hapus/prune sehingga meminimalisir error/variance dari model\n",
    "- splitter: bagaimana kita memilih feature untuk dilakukan split, dan apakah ada jumlah batasan feature yang akan di split tersebut"
   ]
  },
  {
   "cell_type": "markdown",
   "metadata": {},
   "source": [
    "# Feature Importance"
   ]
  },
  {
   "cell_type": "code",
   "execution_count": 28,
   "metadata": {
    "ExecuteTime": {
     "end_time": "2021-11-20T19:14:15.127139Z",
     "start_time": "2021-11-20T19:14:14.959092Z"
    }
   },
   "outputs": [
    {
     "data": {
      "text/plain": [
       "Text(0.5, 1.0, 'feature importance score')"
      ]
     },
     "execution_count": 28,
     "metadata": {},
     "output_type": "execute_result"
    },
    {
     "data": {
      "image/png": "[encoded data removed]",
      "text/plain": [
       "<Figure size 720x576 with 1 Axes>"
      ]
     },
     "metadata": {
      "needs_background": "light"
     },
     "output_type": "display_data"
    }
   ],
   "source": [
    "# plt.figsize(10, 8)\n",
    "feat_importances = pd.Series(model.best_estimator_.feature_importances_, index=X.columns)\n",
    "ax = feat_importances.nlargest(25).plot(kind='barh', figsize=(10, 8))\n",
    "ax.invert_yaxis()\n",
    "\n",
    "plt.xlabel('score')\n",
    "plt.ylabel('feature')\n",
    "plt.title('feature importance score')"
   ]
  },
  {
   "cell_type": "markdown",
   "metadata": {},
   "source": [
    "# CHALLENGE TIME (4)\n",
    "Gunakan top-5 feature dari hasil feature importance. apakah performa dari model meningkat?"
   ]
  },
  {
   "cell_type": "code",
   "execution_count": null,
   "metadata": {
    "ExecuteTime": {
     "end_time": "2021-03-21T02:57:47.798413Z",
     "start_time": "2021-03-21T02:57:47.770469Z"
    }
   },
   "outputs": [],
   "source": [
    "### TULISKAN SOLUSI CHALLENGE 4 DISINI ###\n",
    "\n",
    "### TULISKAN SOLUSI CHALLENGE 4 DISINI ###"
   ]
  },
  {
   "cell_type": "markdown",
   "metadata": {},
   "source": [
    "# Suggestion for Next Learning\n",
    "Notebook ini hanya membahas mengenai logistic regression, k nearest neighbor dan decision tree, masih ada banyak sekali algoritma yang digunakan untuk klasifikasi, seperti naive bayes, support vector machines, neural network, dll. jika teman-teman tertarik dapat melihat dokumentasi penggunaannya di python pada dokumentasi scikit-learn disini: https://scikit-learn.org/stable/supervised_learning.html\n",
    "\n",
    "Terima kasih dan tetap semangat :)"
   ]
  }
 ],
 "metadata": {
  "kernelspec": {
   "display_name": "Python 3",
   "language": "python",
   "name": "python3"
  },
  "language_info": {
   "codemirror_mode": {
    "name": "ipython",
    "version": 3
   },
   "file_extension": ".py",
   "mimetype": "text/x-python",
   "name": "python",
   "nbconvert_exporter": "python",
   "pygments_lexer": "ipython3",
   "version": "3.8.8"
  },
  "latex_envs": {
   "LaTeX_envs_menu_present": true,
   "autoclose": false,
   "autocomplete": true,
   "bibliofile": "biblio.bib",
   "cite_by": "apalike",
   "current_citInitial": 1,
   "eqLabelWithNumbers": true,
   "eqNumInitial": 1,
   "hotkeys": {
    "equation": "Ctrl-E",
    "itemize": "Ctrl-I"
   },
   "labels_anchors": false,
   "latex_user_defs": false,
   "report_style_numbering": false,
   "user_envs_cfg": false
  },
  "toc": {
   "base_numbering": 1,
   "nav_menu": {},
   "number_sections": true,
   "sideBar": true,
   "skip_h1_title": false,
   "title_cell": "Table of Contents",
   "title_sidebar": "Contents",
   "toc_cell": false,
   "toc_position": {
    "height": "472px",
    "left": "51px",
    "top": "281px",
    "width": "219.033px"
   },
   "toc_section_display": true,
   "toc_window_display": true
  },
  "varInspector": {
   "cols": {
    "lenName": 16,
    "lenType": 16,
    "lenVar": 40
   },
   "kernels_config": {
    "python": {
     "delete_cmd_postfix": "",
     "delete_cmd_prefix": "del ",
     "library": "var_list.py",
     "varRefreshCmd": "print(var_dic_list())"
    },
    "r": {
     "delete_cmd_postfix": ") ",
     "delete_cmd_prefix": "rm(",
     "library": "var_list.r",
     "varRefreshCmd": "cat(var_dic_list()) "
    }
   },
   "types_to_exclude": [
    "module",
    "function",
    "builtin_function_or_method",
    "instance",
    "_Feature"
   ],
   "window_display": false
  }
 },
 "nbformat": 4,
 "nbformat_minor": 2
}
